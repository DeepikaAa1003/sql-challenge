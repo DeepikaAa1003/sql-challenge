{
 "cells": [
  {
   "cell_type": "code",
   "execution_count": 1,
   "metadata": {},
   "outputs": [],
   "source": [
    "# Dependencies\n",
    "import pandas as pd\n",
    "from sqlalchemy import create_engine\n",
    "import sqlalchemy as sql\n",
    "import seaborn as sns\n",
    "import matplotlib.pyplot as plt\n",
    "from config import username\n",
    "from config import password"
   ]
  },
  {
   "cell_type": "code",
   "execution_count": 2,
   "metadata": {},
   "outputs": [],
   "source": [
    "# Connect to database \n",
    "# username = \"postgres\"\n",
    "# password = \"postgres\"\n",
    "connect_string = 'postgresql://' + username + ':' + password + '@localhost:5432/SQLHomework_db'\n",
    "sql_engine = sql.create_engine(connect_string)"
   ]
  },
  {
   "cell_type": "code",
   "execution_count": 3,
   "metadata": {},
   "outputs": [
    {
     "data": {
      "text/html": [
       "<div>\n",
       "<style scoped>\n",
       "    .dataframe tbody tr th:only-of-type {\n",
       "        vertical-align: middle;\n",
       "    }\n",
       "\n",
       "    .dataframe tbody tr th {\n",
       "        vertical-align: top;\n",
       "    }\n",
       "\n",
       "    .dataframe thead th {\n",
       "        text-align: right;\n",
       "    }\n",
       "</style>\n",
       "<table border=\"1\" class=\"dataframe\">\n",
       "  <thead>\n",
       "    <tr style=\"text-align: right;\">\n",
       "      <th></th>\n",
       "      <th>Groups</th>\n",
       "      <th>n</th>\n",
       "    </tr>\n",
       "  </thead>\n",
       "  <tbody>\n",
       "    <tr>\n",
       "      <th>0</th>\n",
       "      <td>100K Plus</td>\n",
       "      <td>1287</td>\n",
       "    </tr>\n",
       "    <tr>\n",
       "      <th>1</th>\n",
       "      <td>40-50K</td>\n",
       "      <td>158472</td>\n",
       "    </tr>\n",
       "    <tr>\n",
       "      <th>2</th>\n",
       "      <td>50-60K</td>\n",
       "      <td>57917</td>\n",
       "    </tr>\n",
       "    <tr>\n",
       "      <th>3</th>\n",
       "      <td>60-70K</td>\n",
       "      <td>41405</td>\n",
       "    </tr>\n",
       "    <tr>\n",
       "      <th>4</th>\n",
       "      <td>70-80K</td>\n",
       "      <td>24814</td>\n",
       "    </tr>\n",
       "    <tr>\n",
       "      <th>5</th>\n",
       "      <td>80-90K</td>\n",
       "      <td>11844</td>\n",
       "    </tr>\n",
       "    <tr>\n",
       "      <th>6</th>\n",
       "      <td>90-100K</td>\n",
       "      <td>4285</td>\n",
       "    </tr>\n",
       "  </tbody>\n",
       "</table>\n",
       "</div>"
      ],
      "text/plain": [
       "      Groups       n\n",
       "0  100K Plus    1287\n",
       "1     40-50K  158472\n",
       "2     50-60K   57917\n",
       "3     60-70K   41405\n",
       "4     70-80K   24814\n",
       "5     80-90K   11844\n",
       "6    90-100K    4285"
      ]
     },
     "execution_count": 3,
     "metadata": {},
     "output_type": "execute_result"
    }
   ],
   "source": [
    "# query to find most common salary groups\n",
    "\n",
    "query = \"\"\" SELECT CASE\n",
    "         WHEN S.salary <= 50000 THEN '40-50K'\n",
    "         WHEN S.salary <= 60000 THEN '50-60K'  \n",
    "\t\t WHEN S.salary <= 70000 THEN '60-70K'  \n",
    "\t\t WHEN S.salary <= 80000 THEN '70-80K'  \n",
    "\t\t WHEN S.salary <= 90000 THEN '80-90K'  \n",
    "\t\t WHEN S.salary <= 100000 THEN '90-100K'  \n",
    "         ELSE '100K Plus' \n",
    "         END AS \"Groups\", \n",
    "         COUNT(*) AS n\n",
    "FROM salaries S join employees E on S.emp_no = E.emp_no\n",
    "GROUP BY CASE \n",
    "         WHEN S.salary <= 50000 THEN '40-50K' \n",
    "         WHEN S.salary <= 60000 THEN '50-60K'  \n",
    "\t\t WHEN S.salary <= 70000 THEN '60-70K'  \n",
    "\t\t WHEN S.salary <= 80000 THEN '70-80K'  \n",
    "\t\t WHEN S.salary <= 90000 THEN '80-90K'  \n",
    "\t\t WHEN S.salary <= 100000 THEN '90-100K'  \n",
    "         ELSE '100K Plus' \n",
    "         END\n",
    "ORDER BY \"Groups\"; \"\"\"\n",
    "\n",
    "salary_groups_df = pd.read_sql_query(query, sql_engine)\n",
    "\n",
    "salary_groups_df"
   ]
  },
  {
   "cell_type": "code",
   "execution_count": 4,
   "metadata": {},
   "outputs": [],
   "source": [
    "query = \"select S.salary from salaries S join employees E on S.emp_no = E.emp_no  where S.salary <= '90000'  and  S.salary >= '40000' order by S.salary\"\n",
    "\n",
    "salary_df = pd.read_sql_query(query, sql_engine)"
   ]
  },
  {
   "cell_type": "code",
   "execution_count": 5,
   "metadata": {},
   "outputs": [
    {
     "data": {
      "text/plain": [
       "Text(0, 0.5, 'Number of Employees')"
      ]
     },
     "execution_count": 5,
     "metadata": {},
     "output_type": "execute_result"
    },
    {
     "data": {
      "image/png": "[encoded data removed]",
      "text/plain": [
       "<Figure size 432x288 with 1 Axes>"
      ]
     },
     "metadata": {
      "needs_background": "light"
     },
     "output_type": "display_data"
    }
   ],
   "source": [
    "sns.distplot(salary_df['salary'], kde=False, color='blue', bins=5)\n",
    "plt.title('Salary Freqeuncy', fontsize=18)\n",
    "plt.xlabel('Salary', fontsize=16)\n",
    "plt.ylabel('Number of Employees', fontsize=16)"
   ]
  },
  {
   "cell_type": "code",
   "execution_count": 6,
   "metadata": {},
   "outputs": [
    {
     "data": {
      "text/html": [
       "<div>\n",
       "<style scoped>\n",
       "    .dataframe tbody tr th:only-of-type {\n",
       "        vertical-align: middle;\n",
       "    }\n",
       "\n",
       "    .dataframe tbody tr th {\n",
       "        vertical-align: top;\n",
       "    }\n",
       "\n",
       "    .dataframe thead th {\n",
       "        text-align: right;\n",
       "    }\n",
       "</style>\n",
       "<table border=\"1\" class=\"dataframe\">\n",
       "  <thead>\n",
       "    <tr style=\"text-align: right;\">\n",
       "      <th></th>\n",
       "      <th>title_id</th>\n",
       "      <th>Title</th>\n",
       "      <th>AverageSalary</th>\n",
       "    </tr>\n",
       "  </thead>\n",
       "  <tbody>\n",
       "    <tr>\n",
       "      <th>0</th>\n",
       "      <td>e0001</td>\n",
       "      <td>Assistant Engineer</td>\n",
       "      <td>48564.43</td>\n",
       "    </tr>\n",
       "    <tr>\n",
       "      <th>1</th>\n",
       "      <td>e0002</td>\n",
       "      <td>Engineer</td>\n",
       "      <td>48535.34</td>\n",
       "    </tr>\n",
       "    <tr>\n",
       "      <th>2</th>\n",
       "      <td>e0003</td>\n",
       "      <td>Senior Engineer</td>\n",
       "      <td>48506.80</td>\n",
       "    </tr>\n",
       "    <tr>\n",
       "      <th>3</th>\n",
       "      <td>e0004</td>\n",
       "      <td>Technique Leader</td>\n",
       "      <td>48582.90</td>\n",
       "    </tr>\n",
       "    <tr>\n",
       "      <th>4</th>\n",
       "      <td>m0001</td>\n",
       "      <td>Manager</td>\n",
       "      <td>51531.04</td>\n",
       "    </tr>\n",
       "    <tr>\n",
       "      <th>5</th>\n",
       "      <td>s0001</td>\n",
       "      <td>Staff</td>\n",
       "      <td>58465.38</td>\n",
       "    </tr>\n",
       "    <tr>\n",
       "      <th>6</th>\n",
       "      <td>s0002</td>\n",
       "      <td>Senior Staff</td>\n",
       "      <td>58550.17</td>\n",
       "    </tr>\n",
       "  </tbody>\n",
       "</table>\n",
       "</div>"
      ],
      "text/plain": [
       "  title_id               Title  AverageSalary\n",
       "0    e0001  Assistant Engineer       48564.43\n",
       "1    e0002            Engineer       48535.34\n",
       "2    e0003     Senior Engineer       48506.80\n",
       "3    e0004    Technique Leader       48582.90\n",
       "4    m0001             Manager       51531.04\n",
       "5    s0001               Staff       58465.38\n",
       "6    s0002        Senior Staff       58550.17"
      ]
     },
     "execution_count": 6,
     "metadata": {},
     "output_type": "execute_result"
    }
   ],
   "source": [
    "# Calculate avergae salary by title\"\n",
    "\n",
    "query = \"\"\"select T.title_id, T.title as \"Title\", round(avg(S.salary),2) as \"AverageSalary\"\n",
    "from salaries S\n",
    "join employees E\n",
    "on S.emp_no= E.emp_no\n",
    "join titles T\n",
    "on E.title_id = T.title_id\n",
    "group by T.title_id;\"\"\"\n",
    "\n",
    "avgsalary_df = pd.read_sql_query(query, sql_engine)\n",
    "avgsalary_df"
   ]
  },
  {
   "cell_type": "code",
   "execution_count": 7,
   "metadata": {},
   "outputs": [
    {
     "data": {
      "image/png": "[encoded data removed]",
      "text/plain": [
       "<Figure size 432x288 with 1 Axes>"
      ]
     },
     "metadata": {
      "needs_background": "light"
     },
     "output_type": "display_data"
    }
   ],
   "source": [
    "sns.barplot(data = avgsalary_df,x = 'Title',y = 'AverageSalary')\n",
    "\n",
    "plt.xticks(rotation=70)\n",
    "plt.tight_layout()"
   ]
  },
  {
   "cell_type": "code",
   "execution_count": null,
   "metadata": {},
   "outputs": [],
   "source": []
  }
 ],
 "metadata": {
  "kernelspec": {
   "display_name": "Python [conda env:PythonData] *",
   "language": "python",
   "name": "conda-env-PythonData-py"
  },
  "language_info": {
   "codemirror_mode": {
    "name": "ipython",
    "version": 3
   },
   "file_extension": ".py",
   "mimetype": "text/x-python",
   "name": "python",
   "nbconvert_exporter": "python",
   "pygments_lexer": "ipython3",
   "version": "3.8.3"
  },
  "varInspector": {
   "cols": {
    "lenName": 16,
    "lenType": 16,
    "lenVar": 40
   },
   "kernels_config": {
    "python": {
     "delete_cmd_postfix": "",
     "delete_cmd_prefix": "del ",
     "library": "var_list.py",
     "varRefreshCmd": "print(var_dic_list())"
    },
    "r": {
     "delete_cmd_postfix": ") ",
     "delete_cmd_prefix": "rm(",
     "library": "var_list.r",
     "varRefreshCmd": "cat(var_dic_list()) "
    }
   },
   "types_to_exclude": [
    "module",
    "function",
    "builtin_function_or_method",
    "instance",
    "_Feature"
   ],
   "window_display": false
  }
 },
 "nbformat": 4,
 "nbformat_minor": 2
}
